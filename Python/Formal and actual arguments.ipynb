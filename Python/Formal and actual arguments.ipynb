{
 "cells": [
  {
   "cell_type": "markdown",
   "id": "db0f926a-abf2-41ad-80cf-8a3c760efd3e",
   "metadata": {},
   "source": [
    "# Formal argumrnts and actual argumrnts\n",
    "- parameters receive values are called as a \"formal argumrnts\"\n",
    "- when we calling the function we should pass values that value are called \"actual arguments\""
   ]
  },
  {
   "cell_type": "code",
   "execution_count": 1,
   "id": "904e06ec-2db5-4a83-8f76-fe458c604d7d",
   "metadata": {},
   "outputs": [
    {
     "name": "stdout",
     "output_type": "stream",
     "text": [
      "30\n"
     ]
    }
   ],
   "source": [
    "def kcr(a,b):\n",
    "    c = (a +b)\n",
    "    print(c)\n",
    "# calling the function\n",
    "x = 10\n",
    "y = 20\n",
    "kcr(x,y)\n",
    "# where a,b are the formal arguments\n",
    "# and x,y are the actual arguments"
   ]
  },
  {
   "cell_type": "markdown",
   "id": "aa2cda41-4b8b-4d80-9384-c99ad96b294a",
   "metadata": {},
   "source": [
    "# Types of arguments\n",
    "- positional arguments\n",
    "- keyword arguments\n",
    "- default argument\n",
    "- variable length argument or *arguments"
   ]
  },
  {
   "cell_type": "code",
   "execution_count": 2,
   "id": "74c66ef0-70c9-4c67-b088-072bf57a514b",
   "metadata": {},
   "outputs": [
    {
     "name": "stdout",
     "output_type": "stream",
     "text": [
      "10\n"
     ]
    }
   ],
   "source": [
    "# positinal arguments\n",
    "# the number of position arguments should be match otherwise will get error\n",
    "def sub(x, y):\n",
    "    print(x-y)\n",
    "# calling function\n",
    "sub(20, 10)"
   ]
  },
  {
   "cell_type": "code",
   "execution_count": 3,
   "id": "2b1d6301-147a-4b16-852e-f31f572512f3",
   "metadata": {},
   "outputs": [
    {
     "name": "stdout",
     "output_type": "stream",
     "text": [
      "Product is : bangles\n",
      "cost is : 20000\n"
     ]
    }
   ],
   "source": [
    "# keyword arguments\n",
    "def cart(product, price):\n",
    "    print(\"Product is :\" , product)\n",
    "    print(\"cost is :\" , price)\n",
    "cart(product = \"bangles\", price = 20000)\n"
   ]
  },
  {
   "cell_type": "code",
   "execution_count": 4,
   "id": "28b06bb2-eb14-41eb-96b5-2bda8dc48100",
   "metadata": {},
   "outputs": [
    {
     "name": "stdout",
     "output_type": "stream",
     "text": [
      "Product is : pen\n",
      "cost is : 40.0\n"
     ]
    }
   ],
   "source": [
    "# default arguments\n",
    "def cart(product, price = 40.0):\n",
    "    print(\"Product is :\" , product)\n",
    "    print(\"cost is :\" , price)\n",
    "# calling function\n",
    "cart(product = \"pen\")\n"
   ]
  },
  {
   "cell_type": "code",
   "execution_count": 5,
   "id": "674cfbbb-2ec7-48ff-9b44-e1d6e2f1147a",
   "metadata": {},
   "outputs": [
    {
     "name": "stdout",
     "output_type": "stream",
     "text": [
      "(10, 20, 30)\n"
     ]
    }
   ],
   "source": [
    "# * args or variable length arguments\n",
    "def m(*x):\n",
    "    print(x)\n",
    "m(10, 20, 30)"
   ]
  },
  {
   "cell_type": "markdown",
   "id": "678fadda-21bf-4087-be8f-2cf57ee4e0da",
   "metadata": {},
   "source": [
    "# Anonymous functions or Lambdas"
   ]
  },
  {
   "cell_type": "code",
   "execution_count": 6,
   "id": "ecd039df-03f8-4715-a7d3-8f42c1f9a00e",
   "metadata": {},
   "outputs": [
    {
     "name": "stdout",
     "output_type": "stream",
     "text": [
      "16\n"
     ]
    }
   ],
   "source": [
    "# syntax for lambda funtion\n",
    "# \"lambda argument_list: expression\"\n",
    "s = lambda a: a*a\n",
    "x = s(4)\n",
    "print(x)\n"
   ]
  },
  {
   "cell_type": "code",
   "execution_count": 7,
   "id": "32ce65db-317a-436b-857f-16abed1b7e24",
   "metadata": {},
   "outputs": [
    {
     "name": "stdout",
     "output_type": "stream",
     "text": [
      "49\n"
     ]
    }
   ],
   "source": [
    "# To find square by using a normal function\n",
    "def square(t):\n",
    "    return t*t\n",
    "s=square(7)\n",
    "print(s)"
   ]
  },
  {
   "cell_type": "code",
   "execution_count": 8,
   "id": "85b69be6-2e25-445d-bc94-0e9a47c9d4d4",
   "metadata": {},
   "outputs": [
    {
     "name": "stdout",
     "output_type": "stream",
     "text": [
      "The sum of value is: 3\n"
     ]
    }
   ],
   "source": [
    "# To find sum of two values by using anonymous function\n",
    "add = lambda x, y: x+y\n",
    "result = add(1, 2)\n",
    "print(\"The sum of value is:\", result)"
   ]
  },
  {
   "cell_type": "markdown",
   "id": "a10a8d25-08fb-4a0d-a1d9-9f2c3015a3bf",
   "metadata": {},
   "source": [
    "# make a note :\n",
    "Lambda Function internally returns expression value and we no need \n",
    "to write return statement explicitly."
   ]
  },
  {
   "cell_type": "markdown",
   "id": "6215ce0e-7c6e-49a5-a857-23bea0231ba6",
   "metadata": {},
   "source": [
    "# Lambda functions\n",
    "map(p1, p2) function\n",
    " \r",
    " filter(p1, p2) function \n",
    "\n",
    " reduce(p1, p2) function"
   ]
  },
  {
   "cell_type": "code",
   "execution_count": 9,
   "id": "295a2258-efc3-4fae-8fd1-2c6b388f3903",
   "metadata": {},
   "outputs": [
    {
     "name": "stdout",
     "output_type": "stream",
     "text": [
      "Without GST items costs:  [100, 200, 300, 400]\n",
      "With GST items costs:  [110, 210, 310, 410]\n"
     ]
    }
   ],
   "source": [
    "# syntax for map(function, sequence)\n",
    "\n",
    "without_gst_cost = [100, 200, 300, 400]\n",
    "with_gst_cost = map(lambda x: x+10, without_gst_cost)\n",
    "\n",
    "x = list(with_gst_cost)\n",
    "print(\"Without GST items costs: \", without_gst_cost)\n",
    "print(\"With GST items costs: \", x)"
   ]
  },
  {
   "cell_type": "code",
   "execution_count": 10,
   "id": "43b32532-5410-4238-b0de-8080ebddd71f",
   "metadata": {},
   "outputs": [
    {
     "name": "stdout",
     "output_type": "stream",
     "text": [
      "Eligible for discount: [1100, 1200, 1300, 1200, 4560, 2675]\n"
     ]
    }
   ],
   "source": [
    "# syntax for filter(p1, p2) function\n",
    "items_cost = [999, 888, 1100, 1200, 1300, 777,1200,4560,2675]\n",
    "gt_thousand = filter(lambda x : x>1000, items_cost)\n",
    "x = list(gt_thousand)\n",
    "print(\"Eligible for discount:\", x)"
   ]
  },
  {
   "cell_type": "code",
   "execution_count": 11,
   "id": "18d4689b-cd74-49a9-b617-3528d2dbdf0f",
   "metadata": {},
   "outputs": [
    {
     "name": "stdout",
     "output_type": "stream",
     "text": [
      "1110\n"
     ]
    }
   ],
   "source": [
    "# syntax for reduce(p1, p2) function\n",
    "from functools import reduce\n",
    "items_cost = [111, 222, 333, 444]\n",
    "total_cost = reduce(lambda x, y : x+y, items_cost)\n",
    "print(total_cost)"
   ]
  },
  {
   "cell_type": "code",
   "execution_count": null,
   "id": "e33f0537-de26-4b08-9f96-db7ea0cb0685",
   "metadata": {},
   "outputs": [],
   "source": []
  }
 ],
 "metadata": {
  "kernelspec": {
   "display_name": "Python 3 (ipykernel)",
   "language": "python",
   "name": "python3"
  },
  "language_info": {
   "codemirror_mode": {
    "name": "ipython",
    "version": 3
   },
   "file_extension": ".py",
   "mimetype": "text/x-python",
   "name": "python",
   "nbconvert_exporter": "python",
   "pygments_lexer": "ipython3",
   "version": "3.12.0"
  }
 },
 "nbformat": 4,
 "nbformat_minor": 5
}
