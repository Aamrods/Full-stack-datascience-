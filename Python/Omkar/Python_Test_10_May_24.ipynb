{
 "cells": [
  {
   "cell_type": "markdown",
   "id": "2de2b26a-8162-465d-bb75-0c21663be27d",
   "metadata": {},
   "source": [
    "# Q 1 Find the largest value in a given list = [200,56,756] ¶\n",
    "- method 1\n",
    "- method 2\n"
   ]
  },
  {
   "cell_type": "code",
   "execution_count": 16,
   "id": "fd055fa2-4b0c-4d1c-a59a-dd809cc8e713",
   "metadata": {},
   "outputs": [
    {
     "name": "stdout",
     "output_type": "stream",
     "text": [
      "Max/Largest value in the given list: [756, 56, 200] is756\n"
     ]
    }
   ],
   "source": [
    "# method1\n",
    "given_list = [ 756,56,200]\n",
    "max_val = given_list[0]\n",
    "for val in given_list:\n",
    "    if val > max_val:\n",
    "        max_val=val\n",
    "print(f\"Max/Largest value in the given list: {given_list} is{max_val}\")"
   ]
  },
  {
   "cell_type": "code",
   "execution_count": 15,
   "id": "36f9f455-a101-4e65-97cb-cf3d2033bf67",
   "metadata": {},
   "outputs": [
    {
     "name": "stdout",
     "output_type": "stream",
     "text": [
      "Max/Largest value in the given list: [200, 56, 756] is 756\n"
     ]
    }
   ],
   "source": [
    "# method 2\n",
    "given_list = [ 200,56,756]\n",
    "print(f\"Max/Largest value in the given list: {given_list} is {max(given_list)}\")\n"
   ]
  },
  {
   "cell_type": "markdown",
   "id": "07fee1e5-c493-47a1-b040-0f44188ebb17",
   "metadata": {},
   "source": [
    "# Q 2.Find the maximum and minimum repeated word in a given string\n",
    "- method 1\r",
    "- \n",
    "method 2"
   ]
  },
  {
   "cell_type": "code",
   "execution_count": 20,
   "id": "c785c94c-51eb-4496-8aa7-29eeacebeb19",
   "metadata": {},
   "outputs": [
    {
     "name": "stdout",
     "output_type": "stream",
     "text": [
      "['can', 'canner', 'you', 'not', 'okyou']\n",
      "Maximum Repared word ('can', 5)\n",
      "Minimum Repeated word ('not', 1)\n",
      "Minimum Repeated word ('okyou', 1)\n"
     ]
    }
   ],
   "source": [
    "# method 1\n",
    "# String: “can canner can you can not canner can you canner ok you can”\n",
    "\n",
    "given_sentense = \"can canner can you can not canner can you canner okyou can\"\n",
    "\n",
    "unique_words = []\n",
    "for word in given_sentense.split():\n",
    "    if word not in unique_words:\n",
    "        unique_words.append(word)\n",
    "print(unique_words)\n",
    "\n",
    "def find_count(word):\n",
    "    count=0\n",
    "    for w in given_sentense.split():\n",
    "        if word==w:\n",
    "            count=count+1\n",
    "    return count\n",
    "    \n",
    "dict_word = []\n",
    "\n",
    "for word in unique_words:\n",
    "    dict_word.append((word,find_count(word)))\n",
    "\n",
    "max_val = dict_word[0][1]\n",
    "for val in dict_word:\n",
    "    if max_val==val[1]:\n",
    "        print(\"Maximum Repared word\", val)\n",
    "\n",
    "min_val = dict_word[-1][1]\n",
    "for val in dict_word:\n",
    "    if min_val==val[1]:\n",
    "        print(\"Minimum Repeated word\", val)"
   ]
  },
  {
   "cell_type": "code",
   "execution_count": 21,
   "id": "beff9d85-9b6b-415c-9480-f82b940ac016",
   "metadata": {},
   "outputs": [
    {
     "name": "stdout",
     "output_type": "stream",
     "text": [
      "Maximum repeated word: can\n",
      "Minimum repeated word: not\n"
     ]
    }
   ],
   "source": [
    "# method 2\n",
    "# String: “can canner can you can not canner can you canner ok you can”\n",
    "from collections import Counter\n",
    "def find_max_min_repeated_word(string):\n",
    "    # Tokenize the string into words\n",
    "    words = string.split()\n",
    "    # Count the occurrences of each word\n",
    "    word_counts = Counter(words)\n",
    "    # Find the maximum and minimum repeated word\n",
    "    max_repeated_word = max(word_counts, key=word_counts.get)\n",
    "    min_repeated_word = min(word_counts, key=word_counts.get)\n",
    "    return max_repeated_word, min_repeated_word\n",
    "# Example usage\n",
    "string = \"can canner can you can not canner can you canner ok you can\"\n",
    "\n",
    "max_word, min_word = find_max_min_repeated_word(string)\n",
    "print(\"Maximum repeated word:\", max_word)\n",
    "print(\"Minimum repeated word:\", min_word)"
   ]
  },
  {
   "cell_type": "markdown",
   "id": "0c7098e6-c6ca-46f7-b306-f83c27e2c645",
   "metadata": {},
   "source": [
    "# Q 3.Find the largest word in a given string\n",
    "String: “Hello students, good Morning”\n",
    "- method 1\n",
    "- method 2"
   ]
  },
  {
   "cell_type": "code",
   "execution_count": 23,
   "id": "f75b28b1-f109-43b0-864d-9e08f3561e05",
   "metadata": {},
   "outputs": [
    {
     "name": "stdout",
     "output_type": "stream",
     "text": [
      "largest word is: students, and length 9\n"
     ]
    }
   ],
   "source": [
    "# method 1\n",
    "given_str = \"Hello students, good Morning\"\n",
    "largest_word =\"\"\n",
    "largest_word_len =0\n",
    "for word in given_str.split():\n",
    "    if len(word) > largest_word_len:\n",
    "        largest_word_len=len(word)\n",
    "        largest_word=word\n",
    "print(f\"largest word is: {largest_word} and length {largest_word_len}\")\n"
   ]
  },
  {
   "cell_type": "code",
   "execution_count": 24,
   "id": "e6cab2e0-6932-4ef5-b315-483b7ff9d971",
   "metadata": {},
   "outputs": [
    {
     "data": {
      "text/plain": [
       "'students,'"
      ]
     },
     "execution_count": 24,
     "metadata": {},
     "output_type": "execute_result"
    }
   ],
   "source": [
    "# method 2\n",
    "given_str = \"Hello students, good Morning\"\n",
    "l = given_str.split()\n",
    "max(l)"
   ]
  },
  {
   "cell_type": "markdown",
   "id": "978b00ee-1b16-48b5-a7b8-6cff442693db",
   "metadata": {},
   "source": [
    "# Q 4.\n",
    "\n",
    "list= [(2,6),(4,5),(8,9)]\n",
    "\n",
    "A= (10,20)\n",
    "\n",
    "Find the distance between A to list of values , find the tuple which is maximum distance with A\n"
   ]
  },
  {
   "cell_type": "code",
   "execution_count": 25,
   "id": "cb64972f-eed2-4a08-83d5-98212daf56ff",
   "metadata": {},
   "outputs": [
    {
     "name": "stdout",
     "output_type": "stream",
     "text": [
      "Maximum distance to (10, 20) is (4, 5) with disance16.155\n"
     ]
    }
   ],
   "source": [
    "# method 1\n",
    "import math\n",
    "l = [(2,6), (4,5), (8,9)]\n",
    "a = (10,20)\n",
    "\n",
    "max_distance = 0\n",
    "for p in l:\n",
    "    # distance\n",
    "    d = pow((p[0]-a[0]),2) + pow((p[1]-a[1]),2)\n",
    "    d = math.sqrt(d)\n",
    "    if d > max_distance:\n",
    "        max_distance=d\n",
    "        matched_tuple=p\n",
    "print(f\"Maximum distance to {a} is {matched_tuple} with disance{round(max_distance,3)}\")\n"
   ]
  },
  {
   "cell_type": "code",
   "execution_count": 32,
   "id": "1e43774f-d6a3-4d65-8a2b-468afc85d13b",
   "metadata": {},
   "outputs": [
    {
     "name": "stdout",
     "output_type": "stream",
     "text": [
      "Max Distance: 16.15549442140351\n",
      "Matched Tuple: (4, 5)\n"
     ]
    }
   ],
   "source": [
    "# method 2\n",
    "import math\n",
    "\n",
    "l = [(2, 6), (4, 5), (8, 9)]\n",
    "a = (10, 20)\n",
    "\n",
    "# Calculate distances and find the tuple with maximum distance using list comprehension\n",
    "max_distance_tuple = max([(math.sqrt((p[0]-a[0])**2 + (p[1]-a[1])**2), p) for p in l])\n",
    "\n",
    "\n",
    "max_distance = max_distance_tuple[0]\n",
    "matched_tuple = max_distance_tuple[1]\n",
    "\n",
    "print(\"Max Distance:\", max_distance)\n",
    "print(\"Matched Tuple:\", matched_tuple)"
   ]
  },
  {
   "cell_type": "markdown",
   "id": "81b24e84-2531-4062-83d7-5611c783c89d",
   "metadata": {},
   "source": [
    "# Q 5.\n",
    "list= [‘Hyder#bad’,’Chennai’,’De#hi’]\r\n",
    "\n",
    "Implement the lambda function to retrieve the element which are aving ‘#’h#’"
   ]
  },
  {
   "cell_type": "code",
   "execution_count": 33,
   "id": "2e6873a8-0a30-4e73-8be7-566fd46ba05e",
   "metadata": {},
   "outputs": [
    {
     "data": {
      "text/plain": [
       "['Hyder#bad', 'De#hi']"
      ]
     },
     "execution_count": 33,
     "metadata": {},
     "output_type": "execute_result"
    }
   ],
   "source": [
    "# method 1\n",
    "city_list = [\"Hyder#bad\",\"Chennai\",\"De#hi\"]\n",
    "selected = list(filter(lambda x: \"#\" in x , city_list))\n",
    "selected"
   ]
  },
  {
   "cell_type": "markdown",
   "id": "94cbff3f-bbdd-4eed-a627-872535e778e6",
   "metadata": {},
   "source": [
    "# Q 6. take any string ,split the string with empty space and sort the elements with out using sorting method.\n",
    "\n"
   ]
  },
  {
   "cell_type": "code",
   "execution_count": 35,
   "id": "a10f3016-801c-4efe-a526-7e9f6e27607e",
   "metadata": {},
   "outputs": [
    {
     "name": "stdout",
     "output_type": "stream",
     "text": [
      "['any', 'split', 'string', 'take']\n"
     ]
    }
   ],
   "source": [
    "text = \"take any string split\"\n",
    "text_list =[]\n",
    "for word in text.split():\n",
    "    if word not in text_list:\n",
    "        text_list.append(word)\n",
    "\n",
    "#print(text_list)\n",
    "new_text=text_list\n",
    "    # Selection sort\n",
    "for i in range(len(new_text)):\n",
    "    min_idx = i\n",
    "    for j in range(i + 1, len(new_text)):\n",
    "        if new_text[j] < new_text[min_idx]:\n",
    "            min_idx = j\n",
    "        new_text[i], new_text[min_idx] = new_text[min_idx], new_text[i]\n",
    "print(new_text)"
   ]
  },
  {
   "cell_type": "markdown",
   "id": "95a77d30-60e3-4a03-afba-1f273db4b75a",
   "metadata": {},
   "source": [
    "# Q 7. Write a Python function to perform basicstring compression using the counts of repeated characters.\n",
    "\n",
    "For example the input : ‘aabcccaaa’ output: ‘a2b1c3a3’"
   ]
  },
  {
   "cell_type": "code",
   "execution_count": 36,
   "id": "b3cd1247-b6f0-443a-bc58-0e2cc1a756ad",
   "metadata": {},
   "outputs": [
    {
     "name": "stdout",
     "output_type": "stream",
     "text": [
      "a2b1c3a3\n"
     ]
    }
   ],
   "source": [
    "# method 1\n",
    "g=\"aabcccaaa\"\n",
    "pre_ch=None\n",
    "count=1\n",
    "output = \"\"\n",
    "for ch in g:\n",
    "    if pre_ch==None:\n",
    "        pre_ch=ch\n",
    "        count=1\n",
    "        continue\n",
    "    if pre_ch==ch:\n",
    "        count=count+1\n",
    "    if pre_ch!=ch:\n",
    "        output +=pre_ch+str(count)\n",
    "        pre_ch=ch\n",
    "        count=1\n",
    "output +=pre_ch+str(count)\n",
    "print(output)"
   ]
  },
  {
   "cell_type": "code",
   "execution_count": 37,
   "id": "989134ee-067a-4e61-9f86-8c9c00efb722",
   "metadata": {},
   "outputs": [
    {
     "name": "stdout",
     "output_type": "stream",
     "text": [
      "a2b1c3a3\n"
     ]
    }
   ],
   "source": [
    "# method 2\n",
    "g = \"aabcccaaa\"\n",
    "output = \"\"\n",
    "count = 1\n",
    "for i in range(1, len(g)):\n",
    "    if g[i] == g[i - 1]:\n",
    "        count += 1\n",
    "    else:\n",
    "        output += g[i - 1] + str(count)\n",
    "        count = 1\n",
    "output += g[-1] + str(count)\n",
    "print(output)"
   ]
  },
  {
   "cell_type": "markdown",
   "id": "d13de25c-13e1-41fd-b837-4a2ebf3b43fa",
   "metadata": {},
   "source": [
    "# 8. Create a Python function to find the length of longest substring without repeating characters in a given string\n",
    "\n"
   ]
  },
  {
   "cell_type": "code",
   "execution_count": 39,
   "id": "0bcc66ed-3a09-4924-82f3-3f7a8ed18cfb",
   "metadata": {},
   "outputs": [
    {
     "name": "stdout",
     "output_type": "stream",
     "text": [
      "Word - longest - without repeated chars: abcdef with length 6\n"
     ]
    }
   ],
   "source": [
    "# method 1\n",
    "repeated = \"ababab abcdef ababad abadef\"\n",
    "output_word_not_repated_chars = []\n",
    "for word in repeated.split():\n",
    "    st = \"\"\n",
    "    for ch in word:\n",
    "        if ch not in st:\n",
    "            st+=ch\n",
    "    output_word_not_repated_chars.append(st)\n",
    "    st = \"\"\n",
    "max_word=\"\"\n",
    "max_word_length=0\n",
    "for word in output_word_not_repated_chars:\n",
    "    if len(word) > max_word_length:\n",
    "        max_word_length=len(word)\n",
    "        max_word=word\n",
    "print(f\"Word - longest - without repeated chars: {max_word} with length {max_word_length}\")\n"
   ]
  },
  {
   "cell_type": "code",
   "execution_count": 41,
   "id": "0fd8df4f-2a34-45e5-908d-b2c65e580456",
   "metadata": {},
   "outputs": [
    {
     "name": "stdout",
     "output_type": "stream",
     "text": [
      "Word - longest - without repeated chars: dfeacb with length 6\n"
     ]
    }
   ],
   "source": [
    "# method 2\n",
    "repeated = \"ababab abcdef ababad abadef\"\n",
    "\n",
    "# Extract unique characters from each word\n",
    "output_word_not_repeated_chars = [''.join(set(word)) for word in\n",
    "repeated.split()]\n",
    "\n",
    "# Find the word with the longest unique character sequence\n",
    "max_word = max(output_word_not_repeated_chars, key=len)\n",
    "max_word_length = len(max_word)\n",
    "\n",
    "print(f\"Word - longest - without repeated chars: {max_word} with length {max_word_length}\")\n"
   ]
  },
  {
   "cell_type": "code",
   "execution_count": null,
   "id": "5f04ce5c-7a30-4850-8d9d-31a1daa882d4",
   "metadata": {},
   "outputs": [],
   "source": []
  }
 ],
 "metadata": {
  "kernelspec": {
   "display_name": "Python 3 (ipykernel)",
   "language": "python",
   "name": "python3"
  },
  "language_info": {
   "codemirror_mode": {
    "name": "ipython",
    "version": 3
   },
   "file_extension": ".py",
   "mimetype": "text/x-python",
   "name": "python",
   "nbconvert_exporter": "python",
   "pygments_lexer": "ipython3",
   "version": "3.12.0"
  }
 },
 "nbformat": 4,
 "nbformat_minor": 5
}
