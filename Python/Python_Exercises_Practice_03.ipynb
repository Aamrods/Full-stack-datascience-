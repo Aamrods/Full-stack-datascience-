{
 "cells": [
  {
   "cell_type": "markdown",
   "id": "f0897da7-08fa-4c4b-ad96-22a65fbe05dd",
   "metadata": {},
   "source": [
    "# 1.Write a Python program to print \"Hello Python"
   ]
  },
  {
   "cell_type": "code",
   "execution_count": 1,
   "id": "dc66420b-79dc-4402-a086-6fe2aa0610fb",
   "metadata": {},
   "outputs": [
    {
     "name": "stdout",
     "output_type": "stream",
     "text": [
      "helo wold\n"
     ]
    }
   ],
   "source": [
    "print(\"helo wold\")"
   ]
  },
  {
   "cell_type": "markdown",
   "id": "5eb6f1b7-7b13-466b-a064-7de27a0e3da3",
   "metadata": {},
   "source": [
    "# 2.Write a pythkon program to do arithematic operations addition and division."
   ]
  },
  {
   "cell_type": "code",
   "execution_count": 5,
   "id": "301765bc-004f-46dd-8f26-5f5245901cb1",
   "metadata": {},
   "outputs": [
    {
     "name": "stdin",
     "output_type": "stream",
     "text": [
      "Enter a value: 12\n",
      "Enter a value: 12\n"
     ]
    },
    {
     "name": "stdout",
     "output_type": "stream",
     "text": [
      "sum: 12.0+12.0 = 24.0\n"
     ]
    }
   ],
   "source": [
    "# addition \n",
    "num1 = float(input(\"Enter a value:\"))\n",
    "num2 = float(input(\"Enter a value:\"))\n",
    "\n",
    "sum_result = num1 + num2\n",
    "print(f\"sum: {num1}+{num2} = {sum_result}\")\n",
    "    "
   ]
  },
  {
   "cell_type": "code",
   "execution_count": 9,
   "id": "781c9653-dc25-404d-b818-5d4f63609b84",
   "metadata": {},
   "outputs": [
    {
     "name": "stdin",
     "output_type": "stream",
     "text": [
      "Enter a value: 9\n",
      "Enter a value: 0\n"
     ]
    },
    {
     "name": "stdout",
     "output_type": "stream",
     "text": [
      "Error: division by zeoro not allowed.\n"
     ]
    }
   ],
   "source": [
    "# division\n",
    "num3= float(input(\"Enter a value:\"))\n",
    "num4 = float(input(\"Enter a value:\"))\n",
    "if num4 ==0:\n",
    "    print(\"Error: division by zeoro not allowed.\")\n",
    "else:\n",
    "    div_result = num3/num4\n",
    "    print(f\"Division: {num3} / {num4} = {div_result}\")\n",
    "\n",
    "            "
   ]
  },
  {
   "cell_type": "markdown",
   "id": "439803ac-9446-4de8-8235-608919a4ef81",
   "metadata": {},
   "source": [
    "# 3.Write a Python program to find the area of a triangle"
   ]
  },
  {
   "cell_type": "code",
   "execution_count": 11,
   "id": "0e827911-c1b0-4132-ad0a-a99886e5cea2",
   "metadata": {},
   "outputs": [
    {
     "name": "stdin",
     "output_type": "stream",
     "text": [
      "Enter the value: 4\n",
      "Enter the value: 6\n"
     ]
    },
    {
     "name": "stdout",
     "output_type": "stream",
     "text": [
      "The result of the triangle: 12.0\n"
     ]
    }
   ],
   "source": [
    "# input the base and height from the user\n",
    "base = int(input(\"Enter the value:\"))\n",
    "height = int(input(\"Enter the value:\"))\n",
    "# calculate area of triangle\n",
    "area = 0.5*base*height\n",
    "# display the result\n",
    "print(f\"The result of the triangle: {area}\")\n"
   ]
  },
  {
   "cell_type": "markdown",
   "id": "97a582f8-286f-46c9-b0ee-a6916fe37727",
   "metadata": {},
   "source": [
    "# 4.Write a Python program to swap two variables."
   ]
  },
  {
   "cell_type": "code",
   "execution_count": 12,
   "id": "488b59c3-1dab-463d-81a1-8988cc9b6f4e",
   "metadata": {},
   "outputs": [
    {
     "name": "stdin",
     "output_type": "stream",
     "text": [
      "Enter a value: 12\n",
      "Enter a value: 14\n"
     ]
    },
    {
     "name": "stdout",
     "output_type": "stream",
     "text": [
      "print original values: a = 12, b = 14\n",
      "swapped values: a =14,b =12\n"
     ]
    }
   ],
   "source": [
    "# input two variables\n",
    "a = input(\"Enter a value:\")\n",
    "b = input(\"Enter a value:\")\n",
    "#display the okriginal values\n",
    "print(f\"print original values: a = {a}, b = {b}\") \n",
    "# swap the values using a temporary variable\n",
    "temp = a\n",
    "a = b\n",
    "b = temp\n",
    "# display the swapped values \n",
    "print(f\"swapped values: a ={a},b ={b}\")"
   ]
  },
  {
   "cell_type": "markdown",
   "id": "38d9d1ec-12c1-4f0b-827f-a8807d6faf1c",
   "metadata": {},
   "source": [
    "# 5.Write a Python program to generate a random number"
   ]
  },
  {
   "cell_type": "code",
   "execution_count": 13,
   "id": "6e567aa7-1f83-44c4-8ae6-d8889276aa5c",
   "metadata": {},
   "outputs": [
    {
     "name": "stdout",
     "output_type": "stream",
     "text": [
      "Random number: 65\n"
     ]
    }
   ],
   "source": [
    "import random\n",
    "print(f\"Random number: {random.randint(1,100)}\")\n"
   ]
  },
  {
   "cell_type": "markdown",
   "id": "8d7d437c-6da9-42fb-ac2e-cb55f7ecd1d5",
   "metadata": {},
   "source": [
    "# 6.Write a Python program to convert kilometers to miles"
   ]
  },
  {
   "cell_type": "code",
   "execution_count": 14,
   "id": "1df6fb3c-dede-489c-a6e4-c3f6cac5350a",
   "metadata": {},
   "outputs": [
    {
     "name": "stdin",
     "output_type": "stream",
     "text": [
      "Enter the distance 12\n"
     ]
    },
    {
     "name": "stdout",
     "output_type": "stream",
     "text": [
      "kilometers equal to 7.4564520000000005 miles\n"
     ]
    }
   ],
   "source": [
    "kilometers = float(input(\"Enter the distance\"))\n",
    "# conversion factor : 1 kilometer = 0.621371\n",
    "conversion_factor = 0.621371\n",
    "miles = kilometers * conversion_factor\n",
    "print(f\"kilometers equal to {miles} miles\")"
   ]
  },
  {
   "cell_type": "markdown",
   "id": "ecbea7d5-2ec0-4524-8eb7-a2ace879ddfa",
   "metadata": {},
   "source": [
    "# 7.Write a Python program to convert Celsius to Fahrenheit."
   ]
  },
  {
   "cell_type": "code",
   "execution_count": 16,
   "id": "8e87a9d0-06d8-400f-a542-962835c52f67",
   "metadata": {},
   "outputs": [
    {
     "name": "stdin",
     "output_type": "stream",
     "text": [
      "Enter temperaturein celsius: 12\n"
     ]
    },
    {
     "name": "stdout",
     "output_type": "stream",
     "text": [
      "12.0 degree celsius is equal to 53.6 degree fehrenheit\n"
     ]
    }
   ],
   "source": [
    "celsius = float(input(\"Enter temperaturein celsius:\"))\n",
    "# conversion formula: (celsius * 9/5) + 32\n",
    "fehrenheit = (celsius * 9/5) + 32\n",
    "print(f\"{celsius} degree celsius is equal to {fehrenheit} degree fehrenheit\")"
   ]
  },
  {
   "cell_type": "markdown",
   "id": "f202483b-3f65-484d-8766-cd689075d166",
   "metadata": {},
   "source": [
    "# 8.Write a Python program to display calendar."
   ]
  },
  {
   "cell_type": "code",
   "execution_count": 22,
   "id": "64100b00-f45f-4529-aa72-bb95eb999967",
   "metadata": {},
   "outputs": [
    {
     "name": "stdin",
     "output_type": "stream",
     "text": [
      "Enter year: 1993\n",
      "Enter month: 7\n"
     ]
    },
    {
     "name": "stdout",
     "output_type": "stream",
     "text": [
      "     July 1993\n",
      "Mo Tu We Th Fr Sa Su\n",
      "          1  2  3  4\n",
      " 5  6  7  8  9 10 11\n",
      "12 13 14 15 16 17 18\n",
      "19 20 21 22 23 24 25\n",
      "26 27 28 29 30 31\n",
      "\n"
     ]
    }
   ],
   "source": [
    "import calendar\n",
    "\n",
    "year = int(input(\"Enter year:\"))\n",
    "month = int(input(\"Enter month:\"))\n",
    "cal = calendar.month(year,month)\n",
    "print(cal)"
   ]
  },
  {
   "cell_type": "markdown",
   "id": "6bb91ea8-7ce8-42ee-a45a-a69e4e483f02",
   "metadata": {},
   "source": [
    "# 9.Write a Python program to solve quadratic equation."
   ]
  },
  {
   "cell_type": "code",
   "execution_count": 31,
   "id": "5dd45ba8-dcf4-45d0-9e8e-eb2afe14c686",
   "metadata": {},
   "outputs": [
    {
     "name": "stdin",
     "output_type": "stream",
     "text": [
      "Enter coefficient a: 12\n",
      "Enter coefficient b: 14\n",
      "Enter coefficient c: 16\n"
     ]
    },
    {
     "name": "stdout",
     "output_type": "stream",
     "text": [
      "Root1: -0.5833333333333334 + 0.9965217285917832i\n",
      "Root2: -0.5833333333333334 - 0.9965217285917832i\n"
     ]
    }
   ],
   "source": [
    "import math\n",
    "# input cofficients\n",
    "a = float(input(\"Enter coefficient a:\"))\n",
    "b = float(input(\"Enter coefficient b:\"))\n",
    "c = float(input(\"Enter coefficient c:\"))\n",
    "\n",
    "#clculate the descriminant\n",
    "descriminant = b**2 - 4 *a*c\n",
    "\n",
    "# check if the descriminint is positive,nagative, or zero\n",
    "if descriminant > 0:\n",
    "    # two real and destinct roots\n",
    "    root1 = (-b + math.sqrt(descriminant))/(2*a)\n",
    "    root2 = (-b - math.sqrt(descriminant))/(2*a)\n",
    "    print(\"Root1: d{root1}\")\n",
    "    print(\"Root2: d{root2}\")\n",
    "elif descriminant ==0:\n",
    "    # one real root (repeated)\n",
    "    root = -b / (2*a)\n",
    "    print(f\"Root: {root}\")\n",
    "else:\n",
    "    #complex roots\n",
    "    real_part = -b/(2*a)\n",
    "    imaginary_part = math.sqrt(abs(descriminant)) / (2*a)\n",
    "    print(f\"Root1: {real_part} + {imaginary_part}i\")\n",
    "    print(f\"Root2: {real_part} - {imaginary_part}i\")                         \n",
    "    \n",
    "                                                                                                                                                                                                                                                                                                                                                          \n",
    "    \n",
    "\n"
   ]
  },
  {
   "cell_type": "markdown",
   "id": "08d1df0a-73c8-4d77-9fff-0ae66ce912c6",
   "metadata": {},
   "source": [
    "# 10.Write a Python program to swap two variables without temp variable."
   ]
  },
  {
   "cell_type": "code",
   "execution_count": 32,
   "id": "ab6999e3-99b2-48ad-9217-242edf2f5039",
   "metadata": {},
   "outputs": [
    {
     "name": "stdout",
     "output_type": "stream",
     "text": [
      "After swapping:\n",
      "a = 8\n",
      "b = 5\n"
     ]
    }
   ],
   "source": [
    "a = 5\n",
    "b = 8\n",
    "# swapping without temporary variable\n",
    "a,b = b,a\n",
    "print(\"After swapping:\")\n",
    "print(\"a =\",a)\n",
    "print(\"b =\",b)"
   ]
  },
  {
   "cell_type": "markdown",
   "id": "2fc61f48-991a-4be2-b5c2-69293eaa790e",
   "metadata": {},
   "source": [
    "# 11.Write a Python Program to Check if a Number is Positive, Negative or Zero."
   ]
  },
  {
   "cell_type": "code",
   "execution_count": 35,
   "id": "06bcf0b4-0076-4c5e-b1da-b1d83598f2cc",
   "metadata": {},
   "outputs": [
    {
     "name": "stdin",
     "output_type": "stream",
     "text": [
      "Enter the value: 1\n"
     ]
    },
    {
     "name": "stdout",
     "output_type": "stream",
     "text": [
      "Positive number\n"
     ]
    }
   ],
   "source": [
    "num = float(input(\"Enter the value:\"))\n",
    "if num > 0:\n",
    "    print(\"Positive number\")\n",
    "elif num == 0:\n",
    "    print(\"Zero\")\n",
    "else:\n",
    "    print(\"Nagative number\")\n",
    "            "
   ]
  },
  {
   "cell_type": "markdown",
   "id": "b7df47b7-a651-4258-8b0b-69cdc7029a36",
   "metadata": {},
   "source": [
    "# 12.Write a Python Program to Check if a Number is Odd or Even."
   ]
  },
  {
   "cell_type": "code",
   "execution_count": 40,
   "id": "31e9d9fb-9712-4980-aa3c-1b62b2e5ca87",
   "metadata": {},
   "outputs": [
    {
     "name": "stdin",
     "output_type": "stream",
     "text": [
      "Enter a number 4\n"
     ]
    },
    {
     "name": "stdout",
     "output_type": "stream",
     "text": [
      "even number\n"
     ]
    }
   ],
   "source": [
    "num = int(input(\"Enter a number\"))\n",
    "if num %2 == 0 :\n",
    "    print(\"even number\")\n",
    "else:\n",
    "    print(\"odd number\")\n"
   ]
  },
  {
   "cell_type": "markdown",
   "id": "3b90a8d8-f860-4257-b8fd-c4bb9ffffb52",
   "metadata": {},
   "source": [
    "# 13.Write a Python Program to Check Leap Year."
   ]
  },
  {
   "cell_type": "code",
   "execution_count": 43,
   "id": "cb442893-7946-4ed2-9664-929220bc063e",
   "metadata": {},
   "outputs": [
    {
     "name": "stdin",
     "output_type": "stream",
     "text": [
      "Enter a year: 12\n"
     ]
    },
    {
     "name": "stdout",
     "output_type": "stream",
     "text": [
      "{0} is a leap year 12\n"
     ]
    }
   ],
   "source": [
    "year = int(input(\"Enter a year:\"))\n",
    "# divided byi 100 means century year (ending with 00)\n",
    "# century year divided by 400 is leap year\n",
    "if (year % 400 == 00) and (year % 100 == 0):\n",
    "    print(\"{0} is a leap year\",format(year))\n",
    "# not divided by 100 means not a century year\n",
    "# year divided by 4 is a leap year \n",
    "elif (year % 4 == 0) and (year % 100 !=0):\n",
    "    print(\"{0} is a leap year\",format(year))\n",
    "# if not divided by both 400 (century year) and 4 (not a century year)\n",
    "#year is not leap year\n",
    "else:\n",
    "    print(\"{0} is not a leap year\".format(year))"
   ]
  },
  {
   "cell_type": "code",
   "execution_count": null,
   "id": "bc1dcac5-ad76-466a-9811-066dd754593e",
   "metadata": {},
   "outputs": [],
   "source": []
  }
 ],
 "metadata": {
  "kernelspec": {
   "display_name": "Python 3 (ipykernel)",
   "language": "python",
   "name": "python3"
  },
  "language_info": {
   "codemirror_mode": {
    "name": "ipython",
    "version": 3
   },
   "file_extension": ".py",
   "mimetype": "text/x-python",
   "name": "python",
   "nbconvert_exporter": "python",
   "pygments_lexer": "ipython3",
   "version": "3.12.0"
  }
 },
 "nbformat": 4,
 "nbformat_minor": 5
}
