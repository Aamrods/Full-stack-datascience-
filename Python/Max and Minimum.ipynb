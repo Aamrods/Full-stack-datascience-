{
 "cells": [
  {
   "cell_type": "code",
   "execution_count": 4,
   "id": "c77ae82e-3cc3-42f2-8716-b6cb0d9edf24",
   "metadata": {},
   "outputs": [
    {
     "name": "stdin",
     "output_type": "stream",
     "text": [
      "Enter a number: 10\n",
      "Enter a number: 20\n",
      "Enter a number: 30\n"
     ]
    },
    {
     "name": "stdout",
     "output_type": "stream",
     "text": [
      "sum= 60\n",
      "avg = 20.0\n",
      "max value: 30\n",
      "\n",
      "min value 10\n"
     ]
    }
   ],
   "source": [
    "a = int(input(\"Enter a number:\"))\n",
    "b = int(input(\"Enter a number:\"))\n",
    "c = int(input(\"Enter a number:\"))\n",
    "print(\"sum=\",a+b+c)\n",
    "\n",
    "s = a+b+c\n",
    "avg = s/3\n",
    "print(\"avg =\",avg)\n",
    "\n",
    "if a>b:\n",
    "   max_value = a\n",
    "else:\n",
    "    max_value = b\n",
    "if max_value >c:\n",
    "    print(\"max value\",max_value)\n",
    "else:\n",
    "    print(\"max value:\",c)\n",
    "\n",
    "\n",
    "print()\n",
    "\n",
    "if a<b:\n",
    "   min_value = a\n",
    "else:\n",
    "    min_value = b\n",
    "if min_value <c:\n",
    "    print(\"min value\",min_value)\n",
    "else:\n",
    "    print(\"min value:\",c)"
   ]
  },
  {
   "cell_type": "code",
   "execution_count": 5,
   "id": "4507a6d4-540c-4fe3-89c9-ff6cddec2893",
   "metadata": {},
   "outputs": [
    {
     "name": "stdin",
     "output_type": "stream",
     "text": [
      "Enter a number: 12.12\n",
      "Enter a number: 14.12\n",
      "Enter a number: 16.12\n"
     ]
    },
    {
     "name": "stdout",
     "output_type": "stream",
     "text": [
      "sum= 42.36\n",
      "avg = 14.12\n",
      "max value: 16.12\n",
      "\n",
      "min value 12.12\n"
     ]
    }
   ],
   "source": [
    "a = float(input(\"Enter a number:\"))\n",
    "b = float(input(\"Enter a number:\"))\n",
    "c = float(input(\"Enter a number:\"))\n",
    "\n",
    "print(\"sum=\",a+b+c)\n",
    "\n",
    "s = a+b+c\n",
    "avg = s/3\n",
    "\n",
    "print(\"avg =\",avg)\n",
    "\n",
    "if a>b:\n",
    "   max_value = a\n",
    "else:\n",
    "    max_value = b\n",
    "if max_value >c:\n",
    "    print(\"max value\",max_value)\n",
    "else:\n",
    "    print(\"max value:\",c)\n",
    "\n",
    "\n",
    "print()\n",
    "\n",
    "if a<b:\n",
    "   min_value = a\n",
    "else:\n",
    "    min_value = b\n",
    "if min_value <c:\n",
    "    print(\"min value\",min_value)\n",
    "else:\n",
    "    print(\"min value:\",c)"
   ]
  },
  {
   "cell_type": "code",
   "execution_count": null,
   "id": "50ec3b96-68ba-4806-95f0-8819063bd9cd",
   "metadata": {},
   "outputs": [],
   "source": []
  }
 ],
 "metadata": {
  "kernelspec": {
   "display_name": "Python 3 (ipykernel)",
   "language": "python",
   "name": "python3"
  },
  "language_info": {
   "codemirror_mode": {
    "name": "ipython",
    "version": 3
   },
   "file_extension": ".py",
   "mimetype": "text/x-python",
   "name": "python",
   "nbconvert_exporter": "python",
   "pygments_lexer": "ipython3",
   "version": "3.12.0"
  }
 },
 "nbformat": 4,
 "nbformat_minor": 5
}
