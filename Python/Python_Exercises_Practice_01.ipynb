{
 "cells": [
  {
   "cell_type": "markdown",
   "id": "d264b440-0913-4d66-8e4f-ee47b35dcf7a",
   "metadata": {},
   "source": [
    "# Python program to interchange first and last elements in a list\n"
   ]
  },
  {
   "cell_type": "code",
   "execution_count": 1,
   "id": "896d2bad-1055-4f97-ad32-c64054c9c8c4",
   "metadata": {},
   "outputs": [
    {
     "name": "stdout",
     "output_type": "stream",
     "text": [
      "[24, 35, 9, 56, 12]\n"
     ]
    }
   ],
   "source": [
    "'''Python3 program to swap first\n",
    "and last element of a list'''\n",
    "\n",
    "# Swap function\n",
    "def swapList(newList):\n",
    "\tsize = len(newList)\n",
    "\t\n",
    "\t# Swapping \n",
    "\ttemp = newList[0]\n",
    "\tnewList[0] = newList[size - 1]\n",
    "\tnewList[size - 1] = temp\n",
    "\t\n",
    "\treturn newList\n",
    "\t\n",
    "# Driver code\n",
    "newList = [12, 35, 9, 56, 24]\n",
    "\n",
    "print(swapList(newList))\n"
   ]
  },
  {
   "cell_type": "markdown",
   "id": "635a34b1-8d0a-43ae-b908-02e9c7f176b9",
   "metadata": {},
   "source": [
    "# Python Program to Swap Two Elements in a List"
   ]
  },
  {
   "cell_type": "code",
   "execution_count": 2,
   "id": "de90f192-2213-431b-bf20-856d8657af42",
   "metadata": {},
   "outputs": [
    {
     "name": "stdout",
     "output_type": "stream",
     "text": [
      "[19, 65, 23, 90]\n"
     ]
    }
   ],
   "source": [
    "# Python3 program to swap elements\n",
    "# at given positions\n",
    "\n",
    "# Swap function\n",
    "def swapPositions(list, pos1, pos2):\n",
    "\t\n",
    "\tlist[pos1], list[pos2] = list[pos2], list[pos1]\n",
    "\treturn list\n",
    "\n",
    "# Driver function\n",
    "List = [23, 65, 19, 90]\n",
    "pos1, pos2 = 1, 3\n",
    "\n",
    "print(swapPositions(List, pos1-1, pos2-1))\n"
   ]
  },
  {
   "cell_type": "markdown",
   "id": "29418853-ab39-450f-9e2b-0b967b3a4bd3",
   "metadata": {},
   "source": [
    "# Python – Swap elements in String list"
   ]
  },
  {
   "cell_type": "code",
   "execution_count": 3,
   "id": "2f1d5b10-1b77-4889-b7cc-4894b6cd5040",
   "metadata": {},
   "outputs": [
    {
     "name": "stdout",
     "output_type": "stream",
     "text": [
      "The original list is : ['Gfg', 'is', 'best', 'for', 'Geeks']\n",
      "List after performing character swaps : ['efg', 'is', 'bGst', 'for', 'eGGks']\n"
     ]
    }
   ],
   "source": [
    "# Python3 code to demonstrate \n",
    "# Swap elements in String list\n",
    "# using replace() + join() + split()\n",
    "\n",
    "# Initializing list\n",
    "test_list = ['Gfg', 'is', 'best', 'for', 'Geeks']\n",
    "\n",
    "# printing original lists\n",
    "print(\"The original list is : \" + str(test_list))\n",
    "\n",
    "# Swap elements in String list\n",
    "# using replace() + join() + split()\n",
    "res = \", \".join(test_list)\n",
    "res = res.replace(\"G\", \"_\").replace(\"e\", \"G\").replace(\"_\", \"e\").split(', ')\n",
    "\n",
    "# printing result \n",
    "print (\"List after performing character swaps : \" + str(res))\n"
   ]
  },
  {
   "cell_type": "markdown",
   "id": "bdad6644-3939-4f5e-a9e9-db5a11ec175d",
   "metadata": {},
   "source": [
    "# How To Find the Length of a List in Python\n",
    "\n",
    "- Using len() function\n",
    "   Python len() function is an inbuilt function in Python. It can be used to find the length of an object by passing the object within the parentheses of the len function.\n",
    "  \r",
    "- \n",
    "Using Naive Metho\n",
    " \n",
    "- \r\n",
    "Using length_hint\n",
    "  \n",
    "- )\r\n",
    "Using sum() met\n",
    "- od\r\n",
    "Using a list comprehen\n",
    "  s- ion\r\n",
    "Using recu\n",
    "  \n",
    "- sion\r\n",
    "Using enumerate fu\n",
    "  \n",
    "- ction\r\n",
    "Using Collections\n",
    "\n",
    " https://www.geeksforgeeks.org/python-ways-to-find-length-of-list/ Module"
   ]
  },
  {
   "cell_type": "code",
   "execution_count": 6,
   "id": "65aa2678-f076-498b-a3f2-38f9cd384357",
   "metadata": {},
   "outputs": [
    {
     "name": "stdout",
     "output_type": "stream",
     "text": [
      "The length of list is:  7\n"
     ]
    }
   ],
   "source": [
    "# Python len()\n",
    "list = [10, 20, 30,89,78,56,98]\n",
    "n = len(list)\n",
    "print(\"The length of list is: \", n)\n"
   ]
  },
  {
   "cell_type": "code",
   "execution_count": 9,
   "id": "3ddde51e-f5fd-4c98-8f42-2a33c08169ea",
   "metadata": {},
   "outputs": [
    {
     "name": "stdout",
     "output_type": "stream",
     "text": [
      "The list is : [1, 2, 3, 4, 5, 6, 7]\n",
      "Length of list using naive method is : 7\n"
     ]
    }
   ],
   "source": [
    "# Initializing list\n",
    "test_list = [1,2,3,4,5,6,7]\n",
    "\n",
    "# Printing test_list\n",
    "print(\"The list is : \" + str(test_list)) # this\n",
    "\n",
    "# Finding length of list using loop\n",
    "# Initializing counter\n",
    "counter = 0\n",
    "for i in test_list:\n",
    "\n",
    "\t# incrementing counter\n",
    "\tcounter = counter + 1\n",
    "\n",
    "# Printing length of list\n",
    "print(\"Length of list using naive method is : \" + str(counter))\n"
   ]
  },
  {
   "cell_type": "code",
   "execution_count": 10,
   "id": "140f9202-dcc7-41f3-ab88-22562d9998a0",
   "metadata": {},
   "outputs": [
    {
     "name": "stdout",
     "output_type": "stream",
     "text": [
      "The list is : [1, 4, 5, 7, 8]\n",
      "Length of list using len() is : 5\n",
      "Length of list using length_hint() is : 5\n"
     ]
    }
   ],
   "source": [
    "from operator import length_hint\n",
    "\n",
    "# Initializing list\n",
    "test_list = [1, 4, 5, 7, 8]\n",
    "\n",
    "# Printing test_list\n",
    "print(\"The list is : \" + str(test_list))\n",
    "\n",
    "# Finding length of list using len()\n",
    "list_len = len(test_list)\n",
    "\n",
    "# Finding length of list using length_hint()\n",
    "list_len_hint = length_hint(test_list)\n",
    "\n",
    "# Printing length of list\n",
    "print(\"Length of list using len() is : \" + str(list_len))\n",
    "print(\"Length of list using length_hint() is : \" + str(list_len_hint))\n"
   ]
  },
  {
   "cell_type": "code",
   "execution_count": 11,
   "id": "b241ed2d-5672-4aaf-8e6c-47538999fa3e",
   "metadata": {},
   "outputs": [
    {
     "name": "stdout",
     "output_type": "stream",
     "text": [
      "The list is : [1, 4, 5, 7, 8]\n",
      "Length of list using len() is : 5\n",
      "Length of list using length_hint() is : 5\n"
     ]
    }
   ],
   "source": [
    "# Initializing list\n",
    "test_list = [1, 4, 5, 7, 8]\n",
    "\n",
    "# Printing test_list\n",
    "print(\"The list is : \" + str(test_list))\n",
    "\n",
    "# Finding length of list\n",
    "# using sum()\n",
    "list_len = sum(1 for i in test_list)\n",
    "\n",
    "\n",
    "# Printing length of list\n",
    "print(\"Length of list using len() is : \" + str(list_len))\n",
    "print(\"Length of list using length_hint() is : \" + str(list_len))\n"
   ]
  },
  {
   "cell_type": "markdown",
   "id": "d5397999-a5e2-476f-b730-d46c26051e23",
   "metadata": {},
   "source": [
    "# printing the the table by using for loop and while loop"
   ]
  },
  {
   "cell_type": "code",
   "execution_count": 17,
   "id": "57dfe662-6af6-4d9b-91fa-8ed28762cf96",
   "metadata": {},
   "outputs": [
    {
     "name": "stdout",
     "output_type": "stream",
     "text": [
      "5 * 0 = 0\n",
      "5 * 1 = 5\n",
      "5 * 2 = 10\n",
      "5 * 3 = 15\n",
      "5 * 4 = 20\n",
      "5 * 5 = 25\n",
      "5 * 6 = 30\n",
      "5 * 7 = 35\n",
      "5 * 8 = 40\n",
      "5 * 9 = 45\n",
      "5 * 10 = 50\n"
     ]
    }
   ],
   "source": [
    "t = 5\n",
    "k = 0\n",
    "while k<=10  :\n",
    "    print(t,\"*\",k,\"=\",t*k)\n",
    "    k=k+1\n",
    "\n",
    "\n",
    "\n"
   ]
  },
  {
   "cell_type": "code",
   "execution_count": 16,
   "id": "5559eee6-9909-4412-82ef-2edf15f819a6",
   "metadata": {},
   "outputs": [
    {
     "name": "stdout",
     "output_type": "stream",
     "text": [
      "5 * 1 = 5\n",
      "5 * 2 = 10\n",
      "5 * 3 = 15\n",
      "5 * 4 = 20\n",
      "5 * 5 = 25\n",
      "5 * 6 = 30\n",
      "5 * 7 = 35\n",
      "5 * 8 = 40\n",
      "5 * 9 = 45\n",
      "5 * 10 = 50\n"
     ]
    }
   ],
   "source": [
    "t = 5\n",
    "r = range(1,11)\n",
    "for k in r :\n",
    "    print(t,\"*\",k,\"=\",t*k)"
   ]
  },
  {
   "cell_type": "code",
   "execution_count": null,
   "id": "7c17eddd-91ea-4ec3-8587-cb39f06b2492",
   "metadata": {},
   "outputs": [],
   "source": []
  }
 ],
 "metadata": {
  "kernelspec": {
   "display_name": "Python 3 (ipykernel)",
   "language": "python",
   "name": "python3"
  },
  "language_info": {
   "codemirror_mode": {
    "name": "ipython",
    "version": 3
   },
   "file_extension": ".py",
   "mimetype": "text/x-python",
   "name": "python",
   "nbconvert_exporter": "python",
   "pygments_lexer": "ipython3",
   "version": "3.12.0"
  }
 },
 "nbformat": 4,
 "nbformat_minor": 5
}
