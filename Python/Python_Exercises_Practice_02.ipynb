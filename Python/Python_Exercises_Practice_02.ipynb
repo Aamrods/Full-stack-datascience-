{
 "cells": [
  {
   "cell_type": "markdown",
   "id": "9be43141-4ede-4928-8de5-9145315e4563",
   "metadata": {},
   "source": [
    "# 1. find given number is even or odd number ?\n"
   ]
  },
  {
   "cell_type": "code",
   "execution_count": 13,
   "id": "be48407d-cbe2-464d-9321-2483c9288fbe",
   "metadata": {},
   "outputs": [
    {
     "name": "stdin",
     "output_type": "stream",
     "text": [
      "Enter a number:  7\n"
     ]
    },
    {
     "name": "stdout",
     "output_type": "stream",
     "text": [
      "The number is odd.\n"
     ]
    }
   ],
   "source": [
    "def even_or_odd(number):\n",
    "    if number % 2 == 0:\n",
    "        print(\"The number is even.\")\n",
    "    else:\n",
    "        print(\"The number is odd.\")\n",
    "\n",
    "# Example usage\n",
    "number = int(input(\"Enter a number: \"))\n",
    "even_or_odd(number)\n"
   ]
  },
  {
   "cell_type": "markdown",
   "id": "90a1fbaa-2d88-42b8-82b7-8402eaf3324c",
   "metadata": {},
   "source": [
    "# 2. Take 10 inputs - either int / float - find sum of 10 numbers , avg of 10 nums,max of 10 numbers , min of 10 numbers\n"
   ]
  },
  {
   "cell_type": "code",
   "execution_count": 8,
   "id": "a80529f0-dbc6-46cb-b46e-725558bfcf5b",
   "metadata": {},
   "outputs": [
    {
     "name": "stdin",
     "output_type": "stream",
     "text": [
      "Enter the name: 1\n",
      "Enter the name: 2\n",
      "Enter the name: 3\n",
      "Enter the name: 4\n",
      "Enter the name: 5\n",
      "Enter the name: 6\n",
      "Enter the name: 7\n",
      "Enter the name: 8\n",
      "Enter the name: 7\n",
      "Enter the name: 9\n"
     ]
    },
    {
     "name": "stdout",
     "output_type": "stream",
     "text": [
      "\n",
      "sum = 43\n",
      "average = 4.3\n",
      "maximum value: 9\n",
      "minimun value: 1\n"
     ]
    }
   ],
   "source": [
    "a = int(input(\"Enter the name:\"))\n",
    "b = int(input(\"Enter the name:\"))\n",
    "c = int(input(\"Enter the name:\"))\n",
    "d = int(input(\"Enter the name:\"))\n",
    "e = int(input(\"Enter the name:\"))\n",
    "f = int(input(\"Enter the name:\"))\n",
    "g = int(input(\"Enter the name:\"))\n",
    "h = int(input(\"Enter the name:\"))\n",
    "i = int(input(\"Enter the name:\"))\n",
    "j = int(input(\"Enter the name:\"))\n",
    "\n",
    "s = (a+b+c+d+e+f+g+h+i)\n",
    "t = (a,b,c,d,e,f,g,h,i,j)\n",
    "print()\n",
    "print(\"sum =\",s)\n",
    "print(\"average =\",s/10)\n",
    "print(\"maximum value:\", max(t))\n",
    "print(\"minimun value:\", min(t))\n",
    "\n",
    "\n",
    "\n",
    "\n"
   ]
  },
  {
   "cell_type": "markdown",
   "id": "f24eb936-be57-4106-8b2b-f351b3e25ea2",
   "metadata": {},
   "source": [
    "# 3. Area & perimeter of circle for given radius\n"
   ]
  },
  {
   "cell_type": "code",
   "execution_count": 9,
   "id": "61057fa7-98cc-4593-b263-06a3af99d73b",
   "metadata": {},
   "outputs": [
    {
     "name": "stdin",
     "output_type": "stream",
     "text": [
      "Enter the value: 12\n"
     ]
    },
    {
     "name": "stdout",
     "output_type": "stream",
     "text": [
      "parameter of the circle: 75.42857142857143\n",
      "area of the circle: 452.57142857142856\n"
     ]
    }
   ],
   "source": [
    "r = int(input(\"Enter the value:\"))\n",
    "parameter_of_cercle = 2*22/7*r\n",
    "area = 22/7*r*r\n",
    "\n",
    "print(\"parameter of the circle:\",parameter_of_cercle)\n",
    "print(\"area of the circle:\", area)"
   ]
  },
  {
   "cell_type": "markdown",
   "id": "cd9592ee-f2cb-473d-a4f9-821bc8a34cae",
   "metadata": {},
   "source": [
    "# 4. Area & perimeter of square for given side of square\n"
   ]
  },
  {
   "cell_type": "code",
   "execution_count": 10,
   "id": "e3a9a60f-99f7-4bc2-b866-7828b08e7bd7",
   "metadata": {},
   "outputs": [
    {
     "name": "stdin",
     "output_type": "stream",
     "text": [
      "Enter the value: 10\n"
     ]
    },
    {
     "name": "stdout",
     "output_type": "stream",
     "text": [
      "Area of suare : 100\n",
      "parameter of square: 40\n"
     ]
    }
   ],
   "source": [
    "length = int(input(\"Enter the value:\"))\n",
    "print(\"Area of suare :\",length*length)\n",
    "print(\"parameter of square:\",4*length)"
   ]
  },
  {
   "cell_type": "markdown",
   "id": "21f0c931-bec9-45c2-8ebf-051d534c5c2d",
   "metadata": {},
   "source": [
    "# 5.Area & perimeter of rectangle for given side of rectangle"
   ]
  },
  {
   "cell_type": "code",
   "execution_count": 11,
   "id": "f0f0e825-1c9f-4789-9c9d-4cc237319dad",
   "metadata": {},
   "outputs": [
    {
     "name": "stdin",
     "output_type": "stream",
     "text": [
      "Enter the value: 12\n",
      "Enter the value: 14\n"
     ]
    },
    {
     "name": "stdout",
     "output_type": "stream",
     "text": [
      "Area of suare : 168\n",
      "parameter of square: 52\n"
     ]
    }
   ],
   "source": [
    "length = int(input(\"Enter the value:\"))\n",
    "breadth = int(input(\"Enter the value:\"))\n",
    "print(\"Area of suare :\",length*breadth)\n",
    "print(\"parameter of square:\",2*(length + breadth))\n"
   ]
  },
  {
   "cell_type": "markdown",
   "id": "44730433-ea38-4166-8bb8-cdf8e5ccd0e3",
   "metadata": {},
   "source": [
    "# 6.Area of triangle -for given sides"
   ]
  },
  {
   "cell_type": "code",
   "execution_count": 12,
   "id": "472491bd-9ed7-4608-9b47-63c3572f5c2e",
   "metadata": {},
   "outputs": [
    {
     "name": "stdin",
     "output_type": "stream",
     "text": [
      "Enter the value: 12\n",
      "Enter the value: 14\n"
     ]
    },
    {
     "name": "stdout",
     "output_type": "stream",
     "text": [
      "Area of a triangle: 84.0\n"
     ]
    }
   ],
   "source": [
    "lenth = int(input(\"Enter the value:\"))\n",
    "breadth = int(input(\"Enter the value:\"))\n",
    "print(\"Area of a triangle:\",1/2*lenth*breadth)\n"
   ]
  },
  {
   "cell_type": "markdown",
   "id": "8e2ad41f-bdc7-4de2-afef-edef4c9aa4ed",
   "metadata": {},
   "source": [
    "# 7.Reverse of given number no: 123 rev no:321"
   ]
  },
  {
   "cell_type": "code",
   "execution_count": 19,
   "id": "fb22c97c-f5d0-4758-a775-4cb42f7ad33c",
   "metadata": {},
   "outputs": [
    {
     "name": "stdout",
     "output_type": "stream",
     "text": [
      "333\n"
     ]
    }
   ],
   "source": [
    "temp = 0\n",
    "num = 123\n",
    "while num > 0:\n",
    "    remainder = 123 % 10\n",
    "    temp = temp*10 + remainder\n",
    "    num = num//10\n",
    "\n",
    "print(temp)\n",
    "    "
   ]
  },
  {
   "cell_type": "markdown",
   "id": "e6f73758-984d-4b53-af2d-dad09d14755d",
   "metadata": {},
   "source": [
    "# 8.Find the vowels in the text/string - print it/count it"
   ]
  },
  {
   "cell_type": "code",
   "execution_count": 17,
   "id": "cd4c1d8f-205a-4b7c-82f9-751e5edcb1be",
   "metadata": {},
   "outputs": [
    {
     "data": {
      "text/plain": [
       "1"
      ]
     },
     "execution_count": 17,
     "metadata": {},
     "output_type": "execute_result"
    }
   ],
   "source": [
    "a = \"aeiou\"\n",
    "a.count(\n",
    "    \"aeiou\")\n"
   ]
  },
  {
   "cell_type": "markdown",
   "id": "b7ea8b6c-bd39-4127-81a2-968a867cc87e",
   "metadata": {},
   "source": [
    "# 9. Reverse of given string given string:liril output:liril\n"
   ]
  },
  {
   "cell_type": "code",
   "execution_count": 16,
   "id": "94b9cb9d-c8a0-437e-ab03-6dfe88ee6603",
   "metadata": {},
   "outputs": [
    {
     "name": "stdout",
     "output_type": "stream",
     "text": [
      "e\n",
      "l\n",
      "i\n",
      "r\n",
      "i\n",
      "l\n"
     ]
    }
   ],
   "source": [
    "string = \"lirile\"\n",
    "\n",
    "for i in range(-1,-(len(string)+1),-1):\n",
    "    print(string[i])\n"
   ]
  },
  {
   "cell_type": "markdown",
   "id": "f1a3f0ff-7e4a-4899-9b64-4e3796dfce09",
   "metadata": {},
   "source": [
    "# 10.Take two points p1 , p2 in the form of tuple - calculate the distance and print"
   ]
  },
  {
   "cell_type": "code",
   "execution_count": 14,
   "id": "9d2e9375-cd77-4ed4-af28-c054972389ee",
   "metadata": {},
   "outputs": [
    {
     "data": {
      "text/plain": [
       "2.0"
      ]
     },
     "execution_count": 14,
     "metadata": {},
     "output_type": "execute_result"
    }
   ],
   "source": [
    "# method 1\n",
    "import math\n",
    "p1 = (3,4)\n",
    "p2 = (5,6)\n",
    "x1 =p1[0]\n",
    "y1 =p1[1]\n",
    "x2 = p2[0]\n",
    "y2 = p2[1]\n",
    "d = math.sqrt((x2-x1) + (y2 -y1))\n",
    "d"
   ]
  },
  {
   "cell_type": "code",
   "execution_count": 15,
   "id": "d7ee9464-b01a-437e-90ea-0c2eea4c806e",
   "metadata": {},
   "outputs": [
    {
     "data": {
      "text/plain": [
       "2.0"
      ]
     },
     "execution_count": 15,
     "metadata": {},
     "output_type": "execute_result"
    }
   ],
   "source": [
    "# method 2\n",
    "import math\n",
    "(x1,y1) = (3,4)\n",
    "(x2,y2) = (5,6)\n",
    "d = math.sqrt((x2-x1) + (y2 -y1))\n",
    "d"
   ]
  },
  {
   "cell_type": "code",
   "execution_count": null,
   "id": "de37e484-5b55-4ee6-9691-20d33987611f",
   "metadata": {},
   "outputs": [],
   "source": []
  }
 ],
 "metadata": {
  "kernelspec": {
   "display_name": "Python 3 (ipykernel)",
   "language": "python",
   "name": "python3"
  },
  "language_info": {
   "codemirror_mode": {
    "name": "ipython",
    "version": 3
   },
   "file_extension": ".py",
   "mimetype": "text/x-python",
   "name": "python",
   "nbconvert_exporter": "python",
   "pygments_lexer": "ipython3",
   "version": "3.12.0"
  }
 },
 "nbformat": 4,
 "nbformat_minor": 5
}
