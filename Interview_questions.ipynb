{
 "cells": [
  {
   "cell_type": "code",
   "execution_count": 9,
   "id": "3b477907-fb3a-49ab-8133-e9572b703bea",
   "metadata": {},
   "outputs": [
    {
     "name": "stdout",
     "output_type": "stream",
     "text": [
      "[2, 3, 5, 7, 11, 13, 17, 19, 23, 29, 31, 37, 41, 43, 47, 53, 59, 61, 67, 71, 73, 79, 83, 89, 97]\n",
      "\n",
      "[1, 4, 6, 8, 9, 10, 12, 14, 15, 16, 18, 20, 21, 22, 24, 25, 26, 27, 28, 30, 32, 33, 34, 35, 36, 38, 39, 40, 42, 44, 45, 46, 48, 49, 50, 51, 52, 54, 55, 56, 57, 58, 60, 62, 63, 64, 65, 66, 68, 69, 70, 72, 74, 75, 76, 77, 78, 80, 81, 82, 84, 85, 86, 87, 88, 90, 91, 92, 93, 94, 95, 96, 98, 99, 100]\n"
     ]
    }
   ],
   "source": [
    "# Q.1 given number 1-100 prime number or not\n",
    "primenumbers = []\n",
    "not_primenumbers = []\n",
    "for i in range(1,101):\n",
    "    count = 0\n",
    "    for j in range(1,i+1):\n",
    "        if i % j == 0:\n",
    "            count = count +1\n",
    "    if count ==2 :\n",
    "        primenumbers.append(i)\n",
    "    else :\n",
    "        not_primenumbers.append(i)\n",
    "print(primenumbers)\n",
    "print()\n",
    "print(not_primenumbers)"
   ]
  },
  {
   "cell_type": "code",
   "execution_count": 11,
   "id": "2baf4a3e-0b3f-49f4-8a2b-754cce3746d4",
   "metadata": {},
   "outputs": [
    {
     "name": "stdout",
     "output_type": "stream",
     "text": [
      "[2, 4, 6, 8, 10, 12, 14, 16, 18, 20, 22, 24, 26, 28, 30, 32, 34, 36, 38, 40, 42, 44, 46, 48, 50, 52, 54, 56, 58, 60, 62, 64, 66, 68, 70, 72, 74, 76, 78, 80, 82, 84, 86, 88, 90, 92, 94, 96, 98, 100]\n",
      "\n",
      "[1, 3, 5, 7, 9, 11, 13, 15, 17, 19, 21, 23, 25, 27, 29, 31, 33, 35, 37, 39, 41, 43, 45, 47, 49, 51, 53, 55, 57, 59, 61, 63, 65, 67, 69, 71, 73, 75, 77, 79, 81, 83, 85, 87, 89, 91, 93, 95, 97, 99]\n"
     ]
    }
   ],
   "source": [
    "# Q.2 given number 1-100 even number or not\n",
    "even_number = []\n",
    "odd_number = []\n",
    "for i in range(1,101):\n",
    "    if i % 2 == 0 :\n",
    "        even_number.append(i)\n",
    "    else :\n",
    "        odd_number.append(i)\n",
    "print(even_number)\n",
    "print()\n",
    "print(odd_number)"
   ]
  },
  {
   "cell_type": "code",
   "execution_count": 12,
   "id": "97d7eafe-9617-411f-b872-8a264947e71f",
   "metadata": {},
   "outputs": [
    {
     "name": "stdout",
     "output_type": "stream",
     "text": [
      "120\n"
     ]
    }
   ],
   "source": [
    "# Q.3 given number for factorial\n",
    "def recursion(n):\n",
    "    if n == 0:\n",
    "        return 1\n",
    "    else :\n",
    "        return n * recursion(n-1)\n",
    "print(recursion(5))"
   ]
  },
  {
   "cell_type": "code",
   "execution_count": null,
   "id": "75a8e252-2769-47d5-848a-1788598cc29c",
   "metadata": {},
   "outputs": [],
   "source": []
  },
  {
   "cell_type": "code",
   "execution_count": 22,
   "id": "249192af-d134-44d4-a9ac-08cb6a466d7e",
   "metadata": {},
   "outputs": [
    {
     "name": "stdout",
     "output_type": "stream",
     "text": [
      "I ma doog\n"
     ]
    }
   ],
   "source": [
    "# Q.5 given string need to reverse the words\n",
    "text = \"I am good\"\n",
    "result = \" \".join(word[::-1] for word in text.split())\n",
    "print(result)"
   ]
  },
  {
   "cell_type": "code",
   "execution_count": null,
   "id": "82c5acdc-d007-44b6-9ed4-a8fbb007763b",
   "metadata": {},
   "outputs": [],
   "source": []
  },
  {
   "cell_type": "code",
   "execution_count": null,
   "id": "686c7e8e-d7c4-4155-98df-f16e7154b265",
   "metadata": {},
   "outputs": [],
   "source": []
  },
  {
   "cell_type": "code",
   "execution_count": null,
   "id": "1784b9d2-1aae-4db2-9ba7-d547c38fa006",
   "metadata": {},
   "outputs": [],
   "source": []
  }
 ],
 "metadata": {
  "kernelspec": {
   "display_name": "Python 3 (ipykernel)",
   "language": "python",
   "name": "python3"
  },
  "language_info": {
   "codemirror_mode": {
    "name": "ipython",
    "version": 3
   },
   "file_extension": ".py",
   "mimetype": "text/x-python",
   "name": "python",
   "nbconvert_exporter": "python",
   "pygments_lexer": "ipython3",
   "version": "3.12.0"
  }
 },
 "nbformat": 4,
 "nbformat_minor": 5
}
